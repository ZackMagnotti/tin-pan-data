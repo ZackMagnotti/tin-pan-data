{
 "cells": [
  {
   "cell_type": "code",
   "execution_count": 127,
   "metadata": {},
   "outputs": [],
   "source": [
    "import sqlite3\n",
    "import pandas as pd\n",
    "conn = sqlite3.connect('data/billboard-200.db')"
   ]
  },
  {
   "cell_type": "code",
   "execution_count": 128,
   "metadata": {},
   "outputs": [],
   "source": [
    "albums_table = pd.read_sql_query('select * from albums', conn)[1:]"
   ]
  },
  {
   "cell_type": "markdown",
   "metadata": {},
   "source": [
    "## Cleaning\n",
    "\n",
    "Convert rank to integer, and add a column named 'power' to represent the value of each album's position on the ranking. Higher ranked means more power."
   ]
  },
  {
   "cell_type": "code",
   "execution_count": 129,
   "metadata": {},
   "outputs": [],
   "source": [
    "albums_table['rank'] = pd.to_numeric(albums_table['rank'], downcast='signed')\n",
    "albums_table['power'] = 1 / albums_table['rank']\n",
    "albums_table['date'] = pd.to_datetime(albums_table['date'])"
   ]
  },
  {
   "cell_type": "code",
   "execution_count": 130,
   "metadata": {},
   "outputs": [
    {
     "name": "stdout",
     "output_type": "stream",
     "text": [
      "<class 'pandas.core.frame.DataFrame'>\n",
      "RangeIndex: 573946 entries, 1 to 573946\n",
      "Data columns (total 8 columns):\n",
      " #   Column        Non-Null Count   Dtype         \n",
      "---  ------        --------------   -----         \n",
      " 0   id            573946 non-null  int64         \n",
      " 1   date          573946 non-null  datetime64[ns]\n",
      " 2   artist        573946 non-null  object        \n",
      " 3   album         573946 non-null  object        \n",
      " 4   rank          573946 non-null  int16         \n",
      " 5   length        492547 non-null  float64       \n",
      " 6   track_length  468867 non-null  float64       \n",
      " 7   power         573946 non-null  float64       \n",
      "dtypes: datetime64[ns](1), float64(3), int16(1), int64(1), object(2)\n",
      "memory usage: 31.7+ MB\n"
     ]
    }
   ],
   "source": [
    "albums_table.info()"
   ]
  },
  {
   "cell_type": "code",
   "execution_count": 131,
   "metadata": {},
   "outputs": [
    {
     "data": {
      "text/html": [
       "<div>\n",
       "<style scoped>\n",
       "    .dataframe tbody tr th:only-of-type {\n",
       "        vertical-align: middle;\n",
       "    }\n",
       "\n",
       "    .dataframe tbody tr th {\n",
       "        vertical-align: top;\n",
       "    }\n",
       "\n",
       "    .dataframe thead th {\n",
       "        text-align: right;\n",
       "    }\n",
       "</style>\n",
       "<table border=\"1\" class=\"dataframe\">\n",
       "  <thead>\n",
       "    <tr style=\"text-align: right;\">\n",
       "      <th></th>\n",
       "      <th>id</th>\n",
       "      <th>date</th>\n",
       "      <th>artist</th>\n",
       "      <th>album</th>\n",
       "      <th>rank</th>\n",
       "      <th>length</th>\n",
       "      <th>track_length</th>\n",
       "      <th>power</th>\n",
       "    </tr>\n",
       "  </thead>\n",
       "  <tbody>\n",
       "    <tr>\n",
       "      <th>1</th>\n",
       "      <td>2</td>\n",
       "      <td>2019-01-19</td>\n",
       "      <td>A Boogie Wit da Hoodie</td>\n",
       "      <td>Hoodie SZN</td>\n",
       "      <td>1</td>\n",
       "      <td>20.0</td>\n",
       "      <td>185233.800000</td>\n",
       "      <td>1.000000</td>\n",
       "    </tr>\n",
       "    <tr>\n",
       "      <th>2</th>\n",
       "      <td>3</td>\n",
       "      <td>2019-01-19</td>\n",
       "      <td>21 Savage</td>\n",
       "      <td>I Am &gt; I Was</td>\n",
       "      <td>2</td>\n",
       "      <td>15.0</td>\n",
       "      <td>211050.733333</td>\n",
       "      <td>0.500000</td>\n",
       "    </tr>\n",
       "    <tr>\n",
       "      <th>3</th>\n",
       "      <td>4</td>\n",
       "      <td>2019-01-19</td>\n",
       "      <td>Soundtrack</td>\n",
       "      <td>Spider-Man: Into The Spider-Verse</td>\n",
       "      <td>3</td>\n",
       "      <td>13.0</td>\n",
       "      <td>190866.384615</td>\n",
       "      <td>0.333333</td>\n",
       "    </tr>\n",
       "    <tr>\n",
       "      <th>4</th>\n",
       "      <td>5</td>\n",
       "      <td>2019-01-19</td>\n",
       "      <td>Meek Mill</td>\n",
       "      <td>Championships</td>\n",
       "      <td>4</td>\n",
       "      <td>19.0</td>\n",
       "      <td>219173.894737</td>\n",
       "      <td>0.250000</td>\n",
       "    </tr>\n",
       "    <tr>\n",
       "      <th>5</th>\n",
       "      <td>6</td>\n",
       "      <td>2019-01-19</td>\n",
       "      <td>Post Malone</td>\n",
       "      <td>beerbongs &amp; bentleys</td>\n",
       "      <td>5</td>\n",
       "      <td>18.0</td>\n",
       "      <td>214113.611111</td>\n",
       "      <td>0.200000</td>\n",
       "    </tr>\n",
       "  </tbody>\n",
       "</table>\n",
       "</div>"
      ],
      "text/plain": [
       "   id       date                  artist                              album  \\\n",
       "1   2 2019-01-19  A Boogie Wit da Hoodie                         Hoodie SZN   \n",
       "2   3 2019-01-19               21 Savage                       I Am > I Was   \n",
       "3   4 2019-01-19              Soundtrack  Spider-Man: Into The Spider-Verse   \n",
       "4   5 2019-01-19               Meek Mill                      Championships   \n",
       "5   6 2019-01-19             Post Malone               beerbongs & bentleys   \n",
       "\n",
       "   rank  length   track_length     power  \n",
       "1     1    20.0  185233.800000  1.000000  \n",
       "2     2    15.0  211050.733333  0.500000  \n",
       "3     3    13.0  190866.384615  0.333333  \n",
       "4     4    19.0  219173.894737  0.250000  \n",
       "5     5    18.0  214113.611111  0.200000  "
      ]
     },
     "execution_count": 131,
     "metadata": {},
     "output_type": "execute_result"
    }
   ],
   "source": [
    "albums_table.head()"
   ]
  },
  {
   "cell_type": "code",
   "execution_count": 138,
   "metadata": {
    "scrolled": true
   },
   "outputs": [],
   "source": [
    "# fill in missing artist names\n",
    "albums_table[albums_table['album']=='Silhouette'] = albums_table[albums_table['album']=='Silhouette'].replace({'':'Kenny G'})\n",
    "albums_table[albums_table['album']=='Roots Of Country Music (1965)'] = albums_table[albums_table['album']=='Roots Of Country Music (1965)'].replace({'':'Various Artists'})"
   ]
  },
  {
   "cell_type": "markdown",
   "metadata": {},
   "source": [
    "## Organizing and Refactoring\n",
    "\n",
    "Create two subtables; one to represent every album that appears in the rankings, and one represent each artist that appears."
   ]
  },
  {
   "cell_type": "code",
   "execution_count": 139,
   "metadata": {},
   "outputs": [],
   "source": [
    "# albums: aggregated data about every album\n",
    "albums = (albums_table.groupby(['album', 'artist'])\n",
    "                      .agg({'power': 'sum',\n",
    "                            'rank' : ['count', 'mean'],\n",
    "                            'date' : ['min', 'max'],\n",
    "                            'length': 'first',\n",
    "                            'track_length': 'first'})\n",
    "         )\n",
    "\n",
    "albums.columns = ['power_rank',\n",
    "                  'num_appearances',\n",
    "                  'average_rank',\n",
    "                  'first_appearance',\n",
    "                  'last_appearance',\n",
    "                  'length',\n",
    "                  'track_length']\n",
    "albums = albums.reset_index()"
   ]
  },
  {
   "cell_type": "code",
   "execution_count": 142,
   "metadata": {},
   "outputs": [],
   "source": [
    "# artists: aggregated data about every artist\n",
    "artists = (albums_table.groupby('artist')\n",
    "                       .agg({'power': 'sum',\n",
    "                             'rank' : ['count', 'mean'],\n",
    "                             'album': 'nunique',\n",
    "                             'date' : ['min', 'max']})\n",
    "          )\n",
    "\n",
    "artists.columns = ['power_rank',\n",
    "                   'num_appearances',\n",
    "                   'average_rank',\n",
    "                   'num_albums',\n",
    "                   'first_appearance',\n",
    "                   'last_appearance',]"
   ]
  },
  {
   "cell_type": "code",
   "execution_count": null,
   "metadata": {},
   "outputs": [],
   "source": []
  },
  {
   "cell_type": "code",
   "execution_count": null,
   "metadata": {},
   "outputs": [],
   "source": []
  },
  {
   "cell_type": "code",
   "execution_count": null,
   "metadata": {},
   "outputs": [],
   "source": []
  },
  {
   "cell_type": "code",
   "execution_count": null,
   "metadata": {},
   "outputs": [],
   "source": []
  },
  {
   "cell_type": "code",
   "execution_count": null,
   "metadata": {},
   "outputs": [],
   "source": []
  },
  {
   "cell_type": "code",
   "execution_count": null,
   "metadata": {},
   "outputs": [],
   "source": []
  },
  {
   "cell_type": "code",
   "execution_count": null,
   "metadata": {},
   "outputs": [],
   "source": []
  }
 ],
 "metadata": {
  "kernelspec": {
   "display_name": "Python 3",
   "language": "python",
   "name": "python3"
  },
  "language_info": {
   "codemirror_mode": {
    "name": "ipython",
    "version": 3
   },
   "file_extension": ".py",
   "mimetype": "text/x-python",
   "name": "python",
   "nbconvert_exporter": "python",
   "pygments_lexer": "ipython3",
   "version": "3.7.7"
  }
 },
 "nbformat": 4,
 "nbformat_minor": 4
}
