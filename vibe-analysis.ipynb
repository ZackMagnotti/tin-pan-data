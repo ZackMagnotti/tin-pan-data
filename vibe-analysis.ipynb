{
 "cells": [
  {
   "cell_type": "code",
   "execution_count": 1,
   "metadata": {},
   "outputs": [],
   "source": [
    "%matplotlib inline\n",
    "import matplotlib\n",
    "import matplotlib.pyplot as plt\n",
    "plt.style.use('ggplot')\n",
    "font = {'size'   : 16}\n",
    "matplotlib.rc('font', **font)\n",
    "\n",
    "import sqlite3\n",
    "import pandas as pd\n",
    "import datetime as dt\n",
    "from src import clean_data as d\n",
    "conn = sqlite3.connect('data/billboard-200.db')"
   ]
  },
  {
   "cell_type": "code",
   "execution_count": null,
   "metadata": {},
   "outputs": [],
   "source": [
    "albums_table, albums, artists, songs = d.get()\n",
    "song_parameters = d.song_parameters\n",
    "normal_parameters = d.normal_parameters"
   ]
  },
  {
   "cell_type": "code",
   "execution_count": null,
   "metadata": {},
   "outputs": [],
   "source": [
    "def weighted_score(param, chart):\n",
    "    power_rank_col = chart['power']\n",
    "    param_col = chart[param]\n",
    "    return (power_rank_col * param_col).sum() / power_rank_col.sum()\n",
    "\n",
    "def vibe(chart, params = song_parameters):\n",
    "        return {p:weighted_score(p, chart) for p in params}"
   ]
  },
  {
   "cell_type": "markdown",
   "metadata": {},
   "source": [
    "# Vibe of Popular Music Over Time"
   ]
  },
  {
   "cell_type": "code",
   "execution_count": null,
   "metadata": {},
   "outputs": [],
   "source": [
    "weekly_charts = albums_table.merge(albums, \n",
    "                                   on=['album','artist'], \n",
    "                                   how='left'\n",
    "                                  ).groupby('date')\n",
    "\n",
    "week_dates = [date for date in weekly_charts.groups.keys()]\n",
    "week_scores = [vibe(chart) for _, chart in weekly_charts]\n",
    "\n",
    "# Timeseries containing the scores for every week\n",
    "parameter_ts = pd.DataFrame(week_scores, index=week_dates)"
   ]
  },
  {
   "cell_type": "code",
   "execution_count": null,
   "metadata": {},
   "outputs": [],
   "source": [
    "# Resample timeseries by every 1200 days to smooth out noise\n",
    "delta = dt.timedelta(days=1200)\n",
    "resampled = parameter_ts.resample(delta).mean()\n",
    "\n",
    "fig, ax = plt.subplots(figsize=(20,10))\n",
    "for p in normal_parameters:\n",
    "    ax.plot(resampled.index, resampled[p])\n",
    "\n",
    "ax.set_title('Popularity of Musical Elements From 1963 to 2019')\n",
    "ax.get_yaxis().set_visible(False)\n",
    "ax.legend(normal_parameters);"
   ]
  },
  {
   "cell_type": "code",
   "execution_count": null,
   "metadata": {},
   "outputs": [],
   "source": [
    "# fig.savefig('images/vibe/full_timeseries.png')"
   ]
  },
  {
   "cell_type": "code",
   "execution_count": null,
   "metadata": {
    "scrolled": false
   },
   "outputs": [],
   "source": [
    "delta = dt.timedelta(days=250)\n",
    "resampled = parameter_ts.resample(delta).mean()\n",
    "\n",
    "sixties       = resampled.loc['1960':'1970']\n",
    "seventies     = resampled.loc['1970':'1980-02-15'] #hotfix\n",
    "eighties      = resampled.loc['1980':'1990']\n",
    "nineties      = resampled.loc['1990':'2000']\n",
    "two_thousands = resampled.loc['2000':'2010-03-29'] #\n",
    "twenty_tens   = resampled.loc['2010':'2020']\n",
    "\n",
    "decade_ts = [sixties,\n",
    "            seventies,\n",
    "            eighties,\n",
    "            nineties,\n",
    "            two_thousands,\n",
    "            twenty_tens]\n",
    "\n",
    "decade_names = ['Sixties',\n",
    "                'Seventies',\n",
    "                'Eighties',\n",
    "                'Nineties',\n",
    "                'Two Thousands',\n",
    "                'Twenty Tens']\n",
    "\n",
    "timestamps = [dt.date(1963, 1, 1),\n",
    "              dt.date(1970, 1, 1),\n",
    "              dt.date(1980, 1, 1),\n",
    "              dt.date(1990, 1, 1),\n",
    "              dt.date(2000, 1, 1),\n",
    "              dt.date(2010, 1, 1)]\n",
    "\n",
    "fig, ax = plt.subplots(2, 3, figsize=(27,18))\n",
    "for a, name, ts, timestamp in zip(ax.flatten(), decade_names, decade_ts, timestamps):\n",
    "    for p in normal_parameters:\n",
    "        a.plot(ts.index, ts[p])\n",
    "\n",
    "    a.set_title(f'The {name}')\n",
    "    a.set_ylabel('Popularity')\n",
    "    a.set_ylim(0, .65)\n",
    "    a.get_yaxis().set_visible(False)\n",
    "    \n",
    "    years = [timestamp + i*dt.timedelta(days=370) for i in range(11)]\n",
    "    if name == 'Sixties':\n",
    "        years = [timestamp + i*dt.timedelta(days=370) for i in range(8)]\n",
    "    a.set_xticks(years)\n",
    "    a.set_xticklabels([year.year for year in years])\n",
    "    \n",
    "\n",
    "ax[0,0].legend(normal_parameters)\n",
    "fig.suptitle('Popularity of Musical Elements Across the Decades', fontsize=50)\n",
    "fig.tight_layout();"
   ]
  },
  {
   "cell_type": "code",
   "execution_count": null,
   "metadata": {},
   "outputs": [],
   "source": [
    "# fig.savefig('images/vibe/by_decade.png')\n"
   ]
  },
  {
   "cell_type": "code",
   "execution_count": null,
   "metadata": {},
   "outputs": [],
   "source": []
  },
  {
   "cell_type": "code",
   "execution_count": null,
   "metadata": {},
   "outputs": [],
   "source": []
  },
  {
   "cell_type": "code",
   "execution_count": null,
   "metadata": {},
   "outputs": [],
   "source": []
  },
  {
   "cell_type": "code",
   "execution_count": null,
   "metadata": {},
   "outputs": [],
   "source": []
  },
  {
   "cell_type": "code",
   "execution_count": null,
   "metadata": {},
   "outputs": [],
   "source": []
  },
  {
   "cell_type": "code",
   "execution_count": null,
   "metadata": {
    "scrolled": true
   },
   "outputs": [],
   "source": []
  },
  {
   "cell_type": "code",
   "execution_count": null,
   "metadata": {
    "scrolled": true
   },
   "outputs": [],
   "source": []
  },
  {
   "cell_type": "code",
   "execution_count": null,
   "metadata": {},
   "outputs": [],
   "source": []
  },
  {
   "cell_type": "code",
   "execution_count": null,
   "metadata": {},
   "outputs": [],
   "source": []
  },
  {
   "cell_type": "code",
   "execution_count": null,
   "metadata": {},
   "outputs": [],
   "source": []
  },
  {
   "cell_type": "code",
   "execution_count": null,
   "metadata": {},
   "outputs": [],
   "source": []
  },
  {
   "cell_type": "code",
   "execution_count": null,
   "metadata": {},
   "outputs": [],
   "source": []
  }
 ],
 "metadata": {
  "kernelspec": {
   "display_name": "Python 3",
   "language": "python",
   "name": "python3"
  },
  "language_info": {
   "codemirror_mode": {
    "name": "ipython",
    "version": 3
   },
   "file_extension": ".py",
   "mimetype": "text/x-python",
   "name": "python",
   "nbconvert_exporter": "python",
   "pygments_lexer": "ipython3",
   "version": "3.7.7"
  }
 },
 "nbformat": 4,
 "nbformat_minor": 4
}
