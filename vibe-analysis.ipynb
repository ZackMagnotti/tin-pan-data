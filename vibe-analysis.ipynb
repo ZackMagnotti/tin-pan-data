{
 "cells": [
  {
   "cell_type": "code",
   "execution_count": 1,
   "metadata": {},
   "outputs": [],
   "source": [
    "import matplotlib.pyplot as plt\n",
    "%matplotlib inline\n",
    "plt.style.use('ggplot')\n",
    "\n",
    "\n",
    "import sqlite3\n",
    "import pandas as pd\n",
    "from src import clean_data\n",
    "conn = sqlite3.connect('data/billboard-200.db')"
   ]
  },
  {
   "cell_type": "code",
   "execution_count": 2,
   "metadata": {},
   "outputs": [],
   "source": [
    "albums_table = pd.read_sql_query('select * from albums', conn)[1:]\n",
    "albums_table['rank'] = pd.to_numeric(albums_table['rank'], downcast='signed')\n",
    "albums_table['power'] = 1 / albums_table['rank']\n",
    "albums_table['date'] = pd.to_datetime(albums_table['date'])"
   ]
  },
  {
   "cell_type": "code",
   "execution_count": 3,
   "metadata": {},
   "outputs": [],
   "source": [
    "albums, artists, songs = clean_data.get()"
   ]
  },
  {
   "cell_type": "code",
   "execution_count": 4,
   "metadata": {},
   "outputs": [],
   "source": [
    "song_parameters = ['tempo',\n",
    "                   'valence',\n",
    "                   'danceability', \n",
    "                   'energy',\n",
    "                   'liveness', \n",
    "                   'loudness', \n",
    "                   'acousticness', \n",
    "                   'instrumentalness',\n",
    "                   'speechiness']\n",
    "\n",
    "albums[song_parameters] = (songs.join(albums, on=['album', 'artist'])\n",
    "                                .groupby(['album', 'artist'])\n",
    "                                .mean()\n",
    "                          )[song_parameters]"
   ]
  },
  {
   "cell_type": "code",
   "execution_count": null,
   "metadata": {
    "scrolled": true
   },
   "outputs": [],
   "source": []
  },
  {
   "cell_type": "code",
   "execution_count": 5,
   "metadata": {},
   "outputs": [],
   "source": [
    "def weighted_score(param, chart):\n",
    "    power_rank_col = chart['power']\n",
    "    param_col = chart[param]\n",
    "    return (power_rank_col * param_col).sum() / power_rank_col.sum()"
   ]
  },
  {
   "cell_type": "code",
   "execution_count": 6,
   "metadata": {},
   "outputs": [],
   "source": [
    "weekly_charts = albums_table.merge(albums, \n",
    "                                   on=['album','artist'], \n",
    "                                   how='left'\n",
    "                                  ).groupby('date')\n",
    "week_scores = []\n",
    "week_dates = []\n",
    "for date, chart in weekly_charts:\n",
    "        params = {p:0 for p in song_parameters}\n",
    "        for p in params:\n",
    "            params[p] = weighted_score(p, chart)\n",
    "            \n",
    "        week_scores.append(params)\n",
    "        week_dates.append(date)"
   ]
  },
  {
   "cell_type": "code",
   "execution_count": null,
   "metadata": {},
   "outputs": [],
   "source": []
  },
  {
   "cell_type": "code",
   "execution_count": null,
   "metadata": {},
   "outputs": [],
   "source": []
  },
  {
   "cell_type": "code",
   "execution_count": null,
   "metadata": {},
   "outputs": [],
   "source": []
  },
  {
   "cell_type": "code",
   "execution_count": null,
   "metadata": {},
   "outputs": [],
   "source": []
  },
  {
   "cell_type": "code",
   "execution_count": null,
   "metadata": {},
   "outputs": [],
   "source": []
  },
  {
   "cell_type": "code",
   "execution_count": null,
   "metadata": {},
   "outputs": [],
   "source": []
  },
  {
   "cell_type": "code",
   "execution_count": null,
   "metadata": {},
   "outputs": [],
   "source": []
  },
  {
   "cell_type": "code",
   "execution_count": null,
   "metadata": {},
   "outputs": [],
   "source": []
  },
  {
   "cell_type": "code",
   "execution_count": null,
   "metadata": {},
   "outputs": [],
   "source": []
  },
  {
   "cell_type": "code",
   "execution_count": null,
   "metadata": {},
   "outputs": [],
   "source": []
  },
  {
   "cell_type": "code",
   "execution_count": null,
   "metadata": {
    "scrolled": true
   },
   "outputs": [],
   "source": []
  },
  {
   "cell_type": "code",
   "execution_count": null,
   "metadata": {
    "scrolled": true
   },
   "outputs": [],
   "source": []
  },
  {
   "cell_type": "code",
   "execution_count": null,
   "metadata": {},
   "outputs": [],
   "source": []
  },
  {
   "cell_type": "code",
   "execution_count": null,
   "metadata": {},
   "outputs": [],
   "source": []
  },
  {
   "cell_type": "code",
   "execution_count": null,
   "metadata": {},
   "outputs": [],
   "source": []
  },
  {
   "cell_type": "code",
   "execution_count": null,
   "metadata": {},
   "outputs": [],
   "source": []
  }
 ],
 "metadata": {
  "kernelspec": {
   "display_name": "Python 3",
   "language": "python",
   "name": "python3"
  },
  "language_info": {
   "codemirror_mode": {
    "name": "ipython",
    "version": 3
   },
   "file_extension": ".py",
   "mimetype": "text/x-python",
   "name": "python",
   "nbconvert_exporter": "python",
   "pygments_lexer": "ipython3",
   "version": "3.7.7"
  }
 },
 "nbformat": 4,
 "nbformat_minor": 4
}
